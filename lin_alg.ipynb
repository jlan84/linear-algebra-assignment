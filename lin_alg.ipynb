{
 "cells": [
  {
   "cell_type": "code",
   "execution_count": 6,
   "metadata": {},
   "outputs": [
    {
     "name": "stdout",
     "output_type": "stream",
     "text": [
      "[[0.1705 ]\n",
      " [0.4468 ]\n",
      " [0.46742]]\n",
      "[0.02   0.356  0.7744]\n",
      "(1, 3)\n"
     ]
    },
    {
     "data": {
      "image/png": "[encoded data removed]",
      "text/plain": [
       "<Figure size 648x216 with 3 Axes>"
      ]
     },
     "metadata": {
      "needs_background": "light"
     },
     "output_type": "display_data"
    }
   ],
   "source": [
    "import numpy as np\n",
    "import matplotlib.pyplot as plt\n",
    "\n",
    "#Part 1 Markov Chains\n",
    "\n",
    "A = np.array([[.7,.1,0],[.2,.9,.2],[.1,0,.88]])\n",
    "\n",
    "B1 = np.array([[.25],[.2],[.55]])\n",
    "B2 = np.dot(A, B1)\n",
    "B3 = np.dot(A, B2)\n",
    "\n",
    "print(B3)\n",
    "\n",
    "B1 = np.array([[0],[0],[1]])\n",
    "B2 = np.dot(A, B1)\n",
    "B3 = np.dot(A, B2).transpose()\n",
    "B1T = np.array([[0],[0],[1]]).transpose()\n",
    "B2T = np.dot(A, B1).transpose()\n",
    "\n",
    "print(B3[0])\n",
    "print(B3.shape)\n",
    "\n",
    "plt.figure(figsize=(9,3))\n",
    "plt.subplot(131)\n",
    "plt.bar(['C', 'I', 'R'], B1T[0])\n",
    "plt.subplot(132)\n",
    "plt.bar(['C', 'I', 'R'], B2T[0])\n",
    "plt.subplot(133)\n",
    "plt.bar(['C', 'I', 'R'], B3[0])\n",
    "\n",
    "\n",
    "plt.show()"
   ]
  },
  {
   "cell_type": "code",
   "execution_count": 3,
   "metadata": {},
   "outputs": [
    {
     "name": "stdout",
     "output_type": "stream",
     "text": [
      "[[0.16 0.83 0.01]]\n"
     ]
    },
    {
     "data": {
      "image/png": "[encoded data removed]",
      "text/plain": [
       "<Figure size 648x216 with 3 Axes>"
      ]
     },
     "metadata": {
      "needs_background": "light"
     },
     "output_type": "display_data"
    }
   ],
   "source": [
    "B1 = np.array([[0],[1],[0]])\n",
    "B2 = np.dot(A, B1)\n",
    "B3 = np.dot(A, B2).transpose()\n",
    "B1T = np.array([[0],[1],[0]]).transpose()\n",
    "B2T = np.dot(A, B1).transpose()\n",
    "\n",
    "\n",
    "print(B3)\n",
    "plt.figure(figsize=(9,3))\n",
    "plt.subplot(131)\n",
    "plt.bar(['C', 'I', 'R'], B1T[0])\n",
    "plt.subplot(132)\n",
    "plt.bar(['C', 'I', 'R'], B2T[0])\n",
    "plt.subplot(133)\n",
    "plt.bar(['C', 'I', 'R'], B3[0])\n",
    "\n",
    "\n",
    "plt.show()"
   ]
  },
  {
   "cell_type": "code",
   "execution_count": 4,
   "metadata": {},
   "outputs": [
    {
     "name": "stdout",
     "output_type": "stream",
     "text": [
      "[[0.51  0.34  0.158]]\n"
     ]
    },
    {
     "data": {
      "image/png": "[encoded data removed]",
      "text/plain": [
       "<Figure size 648x216 with 3 Axes>"
      ]
     },
     "metadata": {
      "needs_background": "light"
     },
     "output_type": "display_data"
    }
   ],
   "source": [
    "B1 = np.array([[1],[0],[0]])\n",
    "B2 = np.dot(A, B1)\n",
    "B3 = np.dot(A, B2).transpose()\n",
    "B1T = np.array([[1],[0],[0]]).transpose()\n",
    "B2T = np.dot(A, B1).transpose()\n",
    "\n",
    "\n",
    "print(B3)\n",
    "plt.figure(figsize=(9,3))\n",
    "plt.subplot(131)\n",
    "plt.bar(['C', 'I', 'R'], B1T[0])\n",
    "plt.subplot(132)\n",
    "plt.bar(['C', 'I', 'R'], B2T[0])\n",
    "plt.subplot(133)\n",
    "plt.bar(['C', 'I', 'R'], B3[0])\n",
    "\n",
    "\n",
    "plt.show()"
   ]
  },
  {
   "cell_type": "code",
   "execution_count": 50,
   "metadata": {},
   "outputs": [
    {
     "name": "stdout",
     "output_type": "stream",
     "text": [
      "(150, 2)\n",
      "(2, 150)\n",
      "[[3.  3.1 2.9 3.2 2.2 3.2 3.  2.7 3.1 2.5 3.7 3.8 3.  3.  3.1 3.4 3.4 2.8\n",
      "  3.3 3.2 3.  3.  4.4 2.5 2.5 3.5 2.3 3.1 3.  3.2 3.9 3.2 2.5 2.6 2.5 2.5\n",
      "  2.7 3.8 2.3 2.5 3.  3.  3.  2.9 2.7 3.  3.  2.6 3.7 3.8 2.9 2.8 3.  3.3\n",
      "  3.4 3.4 3.1 3.  2.8 2.9 2.6 2.7 3.5 3.3 3.  3.  2.8 3.1 3.6 3.4 3.8 2.6\n",
      "  2.8 3.5 3.4 3.2 2.9 2.8 3.  2.9 3.4 2.3 3.2 2.9 3.  2.  3.2 3.3 3.9 2.7\n",
      "  3.4 3.2 3.2 2.2 2.2 2.8 2.4 3.2 2.4 3.3 2.8 2.9 3.2 3.3 3.1 3.4 3.  3.2\n",
      "  2.3 3.  2.7 3.6 2.9 3.5 2.7 4.2 3.  2.8 3.1 2.5 2.7 3.  3.1 2.7 3.5 3.1\n",
      "  2.8 3.8 3.  2.8 4.1 2.8 2.8 4.  3.1 3.7 3.5 3.4 3.  2.4 3.6 3.1 2.9 2.8\n",
      "  3.  3.4 2.6 3.  3.8 3.4]\n",
      " [5.9 6.9 6.6 4.6 6.  4.7 6.5 5.8 6.7 6.7 5.1 5.1 5.7 6.1 4.9 5.  5.  5.7\n",
      "  5.  7.2 5.9 6.5 5.7 5.5 4.9 5.  5.5 4.6 7.2 6.8 5.4 5.  5.7 5.8 5.1 5.6\n",
      "  5.8 5.1 6.3 6.3 5.6 6.1 6.8 7.3 5.6 4.8 7.1 5.7 5.3 5.7 5.7 5.6 4.4 6.3\n",
      "  5.4 6.3 6.9 7.7 6.1 5.6 6.1 6.4 5.  5.1 5.6 5.4 5.8 4.9 4.6 5.2 7.9 7.7\n",
      "  6.1 5.5 4.6 4.7 4.4 6.2 4.8 6.  6.2 5.  6.4 6.3 6.7 5.  5.9 6.7 5.4 6.3\n",
      "  4.8 4.4 6.4 6.2 6.  7.4 4.9 7.  5.5 6.3 6.8 6.1 6.5 6.7 6.7 4.8 4.9 6.9\n",
      "  4.5 4.3 5.2 5.  6.4 5.2 5.8 5.5 7.6 6.3 6.4 6.3 5.8 5.  6.7 6.  5.1 4.8\n",
      "  5.7 5.1 6.6 6.4 5.2 6.4 7.7 5.8 4.9 5.4 5.1 6.  6.5 5.5 7.2 6.9 6.2 6.5\n",
      "  6.  5.4 5.5 6.7 7.7 5.1]]\n",
      "(150,)\n",
      "(1, 2)\n"
     ]
    },
    {
     "data": {
      "image/png": "[encoded data removed]",
      "text/plain": [
       "<Figure size 432x288 with 1 Axes>"
      ]
     },
     "metadata": {
      "needs_background": "light"
     },
     "output_type": "display_data"
    }
   ],
   "source": [
    "import pandas as pd\n",
    "from scipy.spatial import distance\n",
    "\n",
    "iris = pd.read_csv('data/iris.txt')\n",
    "data = iris[['SepalWidth', 'SepalLength']].to_numpy()\n",
    "\n",
    "print(data.shape)\n",
    "\n",
    "\n",
    "Tdata = data.transpose()\n",
    "\n",
    "print(Tdata.shape)\n",
    "print(Tdata)\n",
    "\n",
    "SepW = Tdata[0]\n",
    "SepL = Tdata[1]\n",
    "print(SepW.shape)\n",
    "meanV = np.mean(data, axis=0, keepdims=True)\n",
    "\n",
    "print(meanV.shape)\n",
    "\n",
    "plt.scatter(SepW, SepL)\n",
    "plt.scatter(meanV[0,0], meanV[0,1],marker='x', s=300, linewidths=10)\n",
    "plt.xlabel('Sepal Width')\n",
    "plt.ylabel('Sepal Length')\n",
    "plt.show()\n"
   ]
  },
  {
   "cell_type": "code",
   "execution_count": 51,
   "metadata": {},
   "outputs": [
    {
     "name": "stdout",
     "output_type": "stream",
     "text": [
      "[5.19615242]\n",
      "5.196152422706632\n"
     ]
    }
   ],
   "source": [
    "def check_vector(v1,col):\n",
    "    if v1.shape[1] != col:\n",
    "        return False\n",
    "    else:\n",
    "        return True\n",
    "def compare_vectors(v1, v2):\n",
    "    if v1.shape != v2.shape:\n",
    "        return False\n",
    "    else:\n",
    "        return True\n",
    "def euclidean_dist(v1,v2, col):\n",
    "    euc_dist = 0\n",
    "    if check_vector(v1,col) and check_vector(v2, col):\n",
    "        if compare_vectors(v1, v2):\n",
    "            for i in range(len(v1)):\n",
    "                euc_dist += (v1[i] - v2[i])**2\n",
    "        else:\n",
    "            return 'These vectors are not the same shape'\n",
    "    else:\n",
    "        return 'One of these is not a column vector'\n",
    "    return euc_dist**0.5\n",
    "\n",
    "v1 = np.array([[1],[2],[3]])\n",
    "v2 = np.array([[4],[5],[6]])\n",
    "\n",
    "print(euclidean_dist(v1,v2,1))\n",
    "print(distance.euclidean(v1,v2))\n",
    "\n"
   ]
  },
  {
   "cell_type": "code",
   "execution_count": 52,
   "metadata": {},
   "outputs": [
    {
     "name": "stdout",
     "output_type": "stream",
     "text": [
      "[0.97463185]\n",
      "0.9746318461970761\n"
     ]
    }
   ],
   "source": [
    "def cosine_simil(v1,v2,col):\n",
    "    ABprod = 0\n",
    "    A = 0\n",
    "    B = 0\n",
    "    if check_vector(v1, col) and check_vector(v2, col):\n",
    "        if compare_vectors(v1, v2):\n",
    "            for i in range(len(v1)):\n",
    "                ABprod += v1[i]*v2[i]\n",
    "                A += v1[i]**2\n",
    "                B += v2[i]**2\n",
    "        else:\n",
    "            return 'These vectors are not the same shape'\n",
    "    else:\n",
    "        return 'One of these is not a column vector'\n",
    "    return ABprod/(A**0.5 * B**0.5)\n",
    "\n",
    "print(cosine_simil(v1,v2,1))\n",
    "print(1-distance.cosine(v1,v2))"
   ]
  },
  {
   "cell_type": "code",
   "execution_count": 58,
   "metadata": {},
   "outputs": [
    {
     "name": "stdout",
     "output_type": "stream",
     "text": [
      "2\n"
     ]
    }
   ],
   "source": [
    "def matrix_mean(matrix):\n",
    "    matrix_mean = np.mean(matrix,axis=0,keepdims= True)\n",
    "    return matrix_mean\n",
    "print(matrix_mean(data).shape[1])"
   ]
  },
  {
   "cell_type": "code",
   "execution_count": 62,
   "metadata": {},
   "outputs": [
    {
     "name": "stdout",
     "output_type": "stream",
     "text": [
      "(150,)\n"
     ]
    },
    {
     "data": {
      "image/png": "[encoded data removed]",
      "text/plain": [
       "<Figure size 432x288 with 1 Axes>"
      ]
     },
     "metadata": {
      "needs_background": "light"
     },
     "output_type": "display_data"
    },
    {
     "data": {
      "image/png": "[encoded data removed]",
      "text/plain": [
       "<Figure size 432x288 with 1 Axes>"
      ]
     },
     "metadata": {
      "needs_background": "light"
     },
     "output_type": "display_data"
    }
   ],
   "source": [
    "def distance(matrix, func, row_wise=True):\n",
    "    if not row_wise:\n",
    "        data = data.T\n",
    "    mean_row = matrix_mean(matrix)\n",
    "    result = np.array([])\n",
    "    for row in matrix:\n",
    "        col = row[:, np.newaxis]\n",
    "        mean_col = mean_row.T\n",
    "        dist = func(mean_col, col, 1)\n",
    "        result = np.append(result, dist)\n",
    "    return result\n",
    "\n",
    "print(distance(data, cosine_simil).shape)\n",
    "\n",
    "plt.hist(distance(data, cosine_simil), bins=20)\n",
    "plt.xlabel('Cosine Similarity')\n",
    "plt.title('Cosine Similarity')\n",
    "plt.show()\n",
    "\n",
    "plt.hist(distance(data, euclidean_dist), bins=20)\n",
    "plt.xlabel('Euclidean Distance')\n",
    "plt.title('Euclidean Distance')\n",
    "plt.show()"
   ]
  },
  {
   "cell_type": "code",
   "execution_count": null,
   "metadata": {},
   "outputs": [],
   "source": []
  }
 ],
 "metadata": {
  "kernelspec": {
   "display_name": "Python 3",
   "language": "python",
   "name": "python3"
  },
  "language_info": {
   "codemirror_mode": {
    "name": "ipython",
    "version": 3
   },
   "file_extension": ".py",
   "mimetype": "text/x-python",
   "name": "python",
   "nbconvert_exporter": "python",
   "pygments_lexer": "ipython3",
   "version": "3.7.6"
  }
 },
 "nbformat": 4,
 "nbformat_minor": 4
}
